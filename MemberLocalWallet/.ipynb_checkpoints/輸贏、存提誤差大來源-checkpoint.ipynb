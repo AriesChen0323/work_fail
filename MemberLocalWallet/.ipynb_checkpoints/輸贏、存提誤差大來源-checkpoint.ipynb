{
 "cells": [
  {
   "cell_type": "code",
   "execution_count": 1,
   "metadata": {},
   "outputs": [],
   "source": [
    "import feather as ft\n",
    "import os\n",
    "import pandas as pd\n",
    "import numpy as np\n",
    "import warnings\n",
    "warnings.filterwarnings('ignore')"
   ]
  },
  {
   "cell_type": "code",
   "execution_count": 2,
   "metadata": {},
   "outputs": [],
   "source": [
    "date = '2020-03-08'\n",
    "nextDate = pd.datetime.strftime(pd.datetime.strptime(date, '%Y-%m-%d') + pd.Timedelta('1 days'), '%Y-%m-%d')"
   ]
  },
  {
   "cell_type": "code",
   "execution_count": 3,
   "metadata": {},
   "outputs": [],
   "source": [
    "path = '../../share/data_prod/'\n",
    "pathMemberWallet = '../../share/data_prod/MemberWallets/'\n",
    "pathMemberAccountLog = '../../share/data_prod/MemberAccountLog/'"
   ]
  },
  {
   "cell_type": "code",
   "execution_count": 4,
   "metadata": {},
   "outputs": [],
   "source": [
    "# 地方錢包金額\n",
    "MemberWallets = ft.read_dataframe(pathMemberWallet + 'MemberWalletsFlow' + nextDate.replace('-', '') + '.ft')\n",
    "\n",
    "# 中心錢包金額\n",
    "# 根據目標月份，取得當月中心錢包變化資料\n",
    "MemberAccount = pd.DataFrame()\n",
    "MemberAccountList = os.listdir(pathMemberAccountLog)\n",
    "for name in MemberAccountList:\n",
    "    if '.ft' in name:        \n",
    "        # 2020年02月後才需要，地方錢包金額是從 2020/2/19 之後開始打\n",
    "        if (int(name[-5:-3]) > 1) & (int(name[-9:-5]) >= 2020):\n",
    "            MemberAccount = MemberAccount.append(ft.read_dataframe(pathMemberAccountLog + name))\n",
    "\n",
    "# 流水\n",
    "gameSummary = ft.read_dataframe(path + 'game_daily_summary.ft')\n",
    "member_profile = ft.read_dataframe(path + 'member_profile.ft')"
   ]
  },
  {
   "cell_type": "code",
   "execution_count": 5,
   "metadata": {},
   "outputs": [],
   "source": [
    "def renameFuc(df, colOldName, colNewName):\n",
    "    return df.rename(columns={colOldName:colNewName})"
   ]
  },
  {
   "cell_type": "code",
   "execution_count": 6,
   "metadata": {},
   "outputs": [],
   "source": [
    "# 當天中心錢包變化資料\n",
    "df = MemberAccount.query('AddTime >= @date & AddTime < @nextDate')\n",
    "df.Type = df.Type.str.lower()"
   ]
  },
  {
   "cell_type": "code",
   "execution_count": 7,
   "metadata": {},
   "outputs": [],
   "source": [
    "# 存\n",
    "MemberDepWitFlow = df.query('Type.isin([\"thirdpayment\", \"payment-adjustment\", \"payment to deposit\"])').groupby('MemberId').Amount.sum().reset_index()\n",
    "MemberDepWitFlow = renameFuc(MemberDepWitFlow, 'Amount', 'Deposit')\n",
    "# 提\n",
    "MemberDepWitFlow = MemberDepWitFlow.merge(df.query('Type == \"payment-withdrawal\"').groupby('MemberId').Amount.sum().reset_index(), on = 'MemberId', how = 'outer')\n",
    "MemberDepWitFlow = renameFuc(MemberDepWitFlow, 'Amount', 'Withdrawal')\n",
    "# 其他\n",
    "MemberDepWitFlow = MemberDepWitFlow.merge(df.query('Type.isin([\"affiliatewallettrans\", \"payment-batchadjuest\"])').groupby('MemberId').Amount.sum().reset_index(), on = 'MemberId', how = 'outer')\n",
    "MemberDepWitFlow = renameFuc(MemberDepWitFlow, 'Amount', 'batchAdjuest')\n",
    "# 地方錢包金額\n",
    "localSum = MemberWallets.query('Balance > 0').groupby('MemberId').Balance.sum().reset_index()\n",
    "localSum = renameFuc(localSum, 'Balance', 'localSum')\n",
    "MemberDepWitFlow = MemberDepWitFlow.merge(localSum, on = 'MemberId', how = 'outer')\n",
    "# 輸贏\n",
    "winLoss = gameSummary.query('date == @date').groupby('member_id').gross_revenue_payout_time.sum().reset_index()\n",
    "winLoss = renameFuc(winLoss, 'gross_revenue_payout_time', 'winLoss')\n",
    "winLoss = renameFuc(winLoss, 'member_id', 'MemberId')\n",
    "MemberDepWitFlow = MemberDepWitFlow.merge(winLoss, on = 'MemberId', how = 'outer')\n",
    "# 原始中心錢包金額\n",
    "# 中心錢包變動紀錄\n",
    "MemberAccount['targetDate'] = pd.datetime.strptime(date, '%Y-%m-%d')\n",
    "MemberAccount['diff'] = abs(MemberAccount['targetDate'] - MemberAccount['AddTime'])\n",
    "MemberAccount['中心錢包餘額'] = MemberAccount['OldBalance']\n",
    "MemberAccount.loc[MemberAccount.AddTime < date, '中心錢包餘額'] = MemberAccount.loc[MemberAccount.AddTime < date, 'CurrentBalance']\n",
    "closestLog = MemberAccount.groupby('MemberId')['diff'].min().reset_index()\n",
    "closestLog['isClosest'] = 1\n",
    "MemberAccount = MemberAccount.merge(closestLog, on = ['MemberId', 'diff'], how = 'left')\n",
    "startCenterAccount = MemberAccount.query('isClosest == 1').groupby('MemberId')['中心錢包餘額'].min().reset_index()\n",
    "MemberDepWitFlow = MemberDepWitFlow.merge(startCenterAccount, on = 'MemberId', how = 'outer')\n",
    "\n"
   ]
  },
  {
   "cell_type": "code",
   "execution_count": 8,
   "metadata": {},
   "outputs": [],
   "source": [
    "MemberDepWitFlow = MemberDepWitFlow.fillna(0)\n",
    "MemberDepWitFlow['depWitDiff'] = MemberDepWitFlow.Deposit + MemberDepWitFlow.Withdrawal \n",
    "MemberDepWitFlow['dwWinLossDiff'] = MemberDepWitFlow.depWitDiff - MemberDepWitFlow.winLoss\n",
    "member_profile['MemberId'] = member_profile['member_id']"
   ]
  },
  {
   "cell_type": "code",
   "execution_count": 9,
   "metadata": {},
   "outputs": [],
   "source": [
    "MemberDepWitFlow = MemberDepWitFlow.sort_values(by = 'dwWinLossDiff').head(100).merge(member_profile[['MemberId', 'member_name']], on = 'MemberId', how = 'left').reset_index(drop=True)"
   ]
  },
  {
   "cell_type": "code",
   "execution_count": 10,
   "metadata": {},
   "outputs": [],
   "source": [
    "MemberDepWitFlow = MemberDepWitFlow[['MemberId', 'member_name', 'Deposit', 'Withdrawal', 'batchAdjuest', 'localSum',\n",
    "       'winLoss', '中心錢包餘額', 'depWitDiff', 'dwWinLossDiff']].rename(columns={\n",
    "    'MemberId':'用戶ID', 'member_name':'用戶名稱', 'Deposit':'存款', 'Withdrawal':'提款', \n",
    "    'batchAdjuest':'彩金＋返水', 'localSum':'地方錢包餘額',\n",
    "       'winLoss':'輸贏（公司）', '中心錢包餘額':'中心錢包原有額度', 'depWitDiff':'存提差', 'dwWinLossDiff':'輸贏與存提差'\n",
    "})"
   ]
  },
  {
   "cell_type": "code",
   "execution_count": 11,
   "metadata": {},
   "outputs": [],
   "source": [
    "MemberDepWitFlow['日期'] = pd.datetime.strptime(date, '%Y-%m-%d')"
   ]
  },
  {
   "cell_type": "code",
   "execution_count": 16,
   "metadata": {},
   "outputs": [],
   "source": [
    "revenueError = ft.read_dataframe(path + 'revenueError.ft')\n",
    "MemberDepWitFlow.append(revenueError).drop_duplicates().reset_index(drop = True).to_feather(path + 'revenueError.ft')"
   ]
  },
  {
   "cell_type": "code",
   "execution_count": null,
   "metadata": {},
   "outputs": [],
   "source": []
  }
 ],
 "metadata": {
  "kernelspec": {
   "display_name": "Python 3",
   "language": "python",
   "name": "python3"
  },
  "language_info": {
   "codemirror_mode": {
    "name": "ipython",
    "version": 3
   },
   "file_extension": ".py",
   "mimetype": "text/x-python",
   "name": "python",
   "nbconvert_exporter": "python",
   "pygments_lexer": "ipython3",
   "version": "3.6.7"
  },
  "toc": {
   "base_numbering": 1,
   "nav_menu": {},
   "number_sections": true,
   "sideBar": true,
   "skip_h1_title": false,
   "title_cell": "Table of Contents",
   "title_sidebar": "Contents",
   "toc_cell": false,
   "toc_position": {},
   "toc_section_display": true,
   "toc_window_display": false
  }
 },
 "nbformat": 4,
 "nbformat_minor": 2
}
